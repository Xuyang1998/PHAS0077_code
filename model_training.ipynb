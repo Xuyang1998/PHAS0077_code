{
 "cells": [
  {
   "cell_type": "markdown",
   "metadata": {
    "scrolled": false
   },
   "source": [
    "**In this module, we use RASA command-line to train 60 models without Function. For simplicity and readability, we just use the simple command-line rather than using function here. All models have been saved.**"
   ]
  },
  {
   "cell_type": "markdown",
   "metadata": {},
   "source": [
    "# Package Install"
   ]
  },
  {
   "cell_type": "code",
   "execution_count": null,
   "metadata": {},
   "outputs": [],
   "source": [
    "!pip3 install \"prompt_toolkit==2.0.1\" -q\n",
    "!pip3 install -U ipython -q\n",
    "!pip install transformers==2.8.0\n",
    "!pip3 install rasa[convert]"
   ]
  },
  {
   "cell_type": "markdown",
   "metadata": {},
   "source": [
    "# Training Binary Classifiers in RASA "
   ]
  },
  {
   "cell_type": "code",
   "execution_count": null,
   "metadata": {},
   "outputs": [],
   "source": [
    "# DIET model with no pre-trained word embeddings\n",
    "!rasa train nlu --nlu faq_chitchat_data/binary_data/unbiased_data/1cv_train_unbiased.yml --config configs/config-DIET-chitchat.yml --out faq_chitchat_data/binary_data/unbiased_data/model_unbiased --fixed-model-name cv1_DIET\n",
    "!rasa train nlu --nlu faq_chitchat_data/binary_data/unbiased_data/2cv_train_unbiased.yml --config configs/config-DIET-chitchat.yml --out faq_chitchat_data/binary_data/unbiased_data/model_unbiased --fixed-model-name cv2_DIET\n",
    "!rasa train nlu --nlu faq_chitchat_data/binary_data/unbiased_data/3cv_train_unbiased.yml --config configs/config-DIET-chitchat.yml --out faq_chitchat_data/binary_data/unbiased_data/model_unbiased --fixed-model-name cv3_DIET\n",
    "!rasa train nlu --nlu faq_chitchat_data/binary_data/unbiased_data/4cv_train_unbiased.yml --config configs/config-DIET-chitchat.yml --out faq_chitchat_data/binary_data/unbiased_data/model_unbiased --fixed-model-name cv4_DIET\n",
    "!rasa train nlu --nlu faq_chitchat_data/binary_data/unbiased_data/5cv_train_unbiased.yml --config configs/config-DIET-chitchat.yml --out faq_chitchat_data/binary_data/unbiased_data/model_unbiased --fixed-model-name cv5_DIET\n",
    "\n",
    "# DIET model with pre-trained word embeddings\n",
    "!rasa train nlu --nlu faq_chitchat_data/binary_data/unbiased_data/1cv_train_unbiased.yml --config configs/config-DIET-chitchat.yml --out faq_chitchat_data/binary_data/unbiased_data/model_unbiased --fixed-model-name cv1_DIET\n",
    "!rasa train nlu --nlu faq_chitchat_data/binary_data/unbiased_data/2cv_train_unbiased.yml --config configs/config-DIET-chitchat.yml --out faq_chitchat_data/binary_data/unbiased_data/model_unbiased --fixed-model-name cv2_DIET\n",
    "!rasa train nlu --nlu faq_chitchat_data/binary_data/unbiased_data/3cv_train_unbiased.yml --config configs/config-DIET-chitchat.yml --out faq_chitchat_data/binary_data/unbiased_data/model_unbiased --fixed-model-name cv3_DIET\n",
    "!rasa train nlu --nlu faq_chitchat_data/binary_data/unbiased_data/4cv_train_unbiased.yml --config configs/config-DIET-chitchat.yml --out faq_chitchat_data/binary_data/unbiased_data/model_unbiased --fixed-model-name cv4_DIET\n",
    "!rasa train nlu --nlu faq_chitchat_data/binary_data/unbiased_data/5cv_train_unbiased.yml --config configs/config-DIET-chitchat.yml --out faq_chitchat_data/binary_data/unbiased_data/model_unbiased --fixed-model-name cv5_DIET\n",
    "\n",
    "#DIET model with BERT pre-trained word embeddings\n",
    "!rasa train nlu --nlu faq_chitchat_data/binary_data/unbiased_data/1cv_train_unbiased.yml --config configs/config-BERT-chitchat.yml --out faq_chitchat_data/binary_data/unbiased_data/model_unbiased --fixed-model-name cv1_BERT\n",
    "!rasa train nlu --nlu faq_chitchat_data/binary_data/unbiased_data/2cv_train_unbiased.yml --config configs/config-BERT-chitchat.yml --out faq_chitchat_data/binary_data/unbiased_data/model_unbiased --fixed-model-name cv2_BERT\n",
    "!rasa train nlu --nlu faq_chitchat_data/binary_data/unbiased_data/3cv_train_unbiased.yml --config configs/config-BERT-chitchat.yml --out faq_chitchat_data/binary_data/unbiased_data/model_unbiased --fixed-model-name cv3_BERT\n",
    "!rasa train nlu --nlu faq_chitchat_data/binary_data/unbiased_data/4cv_train_unbiased.yml --config configs/config-BERT-chitchat.yml --out faq_chitchat_data/binary_data/unbiased_data/model_unbiased --fixed-model-name cv4_BERT\n",
    "!rasa train nlu --nlu faq_chitchat_data/binary_data/unbiased_data/5cv_train_unbiased.yml --config configs/config-BERT-chitchat.yml --out faq_chitchat_data/binary_data/unbiased_data/model_unbiased --fixed-model-name cv5_BERT\n"
   ]
  },
  {
   "cell_type": "markdown",
   "metadata": {},
   "source": [
    "# Training  Multi-Class Classifiers (Only for FAQ sub-intents) "
   ]
  },
  {
   "cell_type": "code",
   "execution_count": null,
   "metadata": {},
   "outputs": [],
   "source": [
    "# DIET model with no pre-trained word embeddings\n",
    "!rasa train nlu --nlu faq_data/1cv_train_unbiased.yml --config configs/config-DIET.yml --out faq_model --fixed-model-name cv1_DIET\n",
    "!rasa train nlu --nlu faq_data/2cv_train_unbiased.yml --config configs/config-DIET.yml --out faq_model --fixed-model-name cv2_DIET\n",
    "!rasa train nlu --nlu faq_data/3cv_train_unbiased.yml --config configs/config-DIET.yml --out faq_model --fixed-model-name cv3_DIET\n",
    "!rasa train nlu --nlu faq_data/4cv_train_unbiased.yml --config configs/config-DIET.yml --out faq_model --fixed-model-name cv4_DIET\n",
    "!rasa train nlu --nlu faq_data/5cv_train_unbiased.yml --config configs/config-DIET.yml --out faq_model --fixed-model-name cv5_DIET\n",
    "\n",
    "# DIET model with pre-trained word embeddings\n",
    "!rasa train nlu --nlu faq_data/1cv_train_unbiased.yml --config configs/config-DIET-PreTrained.yml --out faq_model --fixed-model-name cv1_DIET_Pretrained\n",
    "!rasa train nlu --nlu faq_data/2cv_train_unbiased.yml --config configs/config-DIET-PreTrained.yml --out faq_model --fixed-model-name cv2_DIET_Pretrained\n",
    "!rasa train nlu --nlu faq_data/3cv_train_unbiased.yml --config configs/config-DIET-PreTrained.yml --out faq_model --fixed-model-name cv3_DIET_Pretrained\n",
    "!rasa train nlu --nlu faq_data/4cv_train_unbiased.yml --config configs/config-DIET-PreTrained.yml --out faq_model --fixed-model-name cv4_DIET_Pretrained\n",
    "!rasa train nlu --nlu faq_data/5cv_train_unbiased.yml --config configs/config-DIET-PreTrained.yml --out faq_model --fixed-model-name cv5_DIET_Pretrained\n",
    "\n",
    "#DIET model with BERT pre-trained word embeddings\n",
    "!rasa train nlu --nlu faq_data/1cv_train_unbiased.yml --config configs/config-BERT.yml --out faq_model --fixed-model-name cv1_BERT\n",
    "!rasa train nlu --nlu faq_data/2cv_train_unbiased.yml --config configs/config-BERT.yml --out faq_model --fixed-model-name cv2_BERT\n",
    "!rasa train nlu --nlu faq_data/3cv_train_unbiased.yml --config configs/config-BERT.yml --out faq_model --fixed-model-name cv3_BERT\n",
    "!rasa train nlu --nlu faq_data/4cv_train_unbiased.yml --config configs/config-BERT.yml --out faq_model --fixed-model-name cv4_BERT\n",
    "!rasa train nlu --nlu faq_data/5cv_train_unbiased.yml --config configs/config-BERT.yml --out faq_model --fixed-model-name cv5_BERT\n"
   ]
  },
  {
   "cell_type": "markdown",
   "metadata": {},
   "source": [
    "# Training Multi-Class Classifier without Augmented Data"
   ]
  },
  {
   "cell_type": "code",
   "execution_count": null,
   "metadata": {},
   "outputs": [],
   "source": [
    "# DIET model with no pre-trained word embeddings\n",
    "!rasa train nlu --nlu faq_data/1cv_original_train.yml --config configs/config-DIET.yml --out faq_model_without_augment --fixed-model-name cv1_DIET\n",
    "!rasa train nlu --nlu faq_data/2cv_original_train.yml --config configs/config-DIET.yml --out faq_model_without_augment --fixed-model-name cv2_DIET\n",
    "!rasa train nlu --nlu faq_data/3cv_original_train.yml --config configs/config-DIET.yml --out faq_model_without_augment --fixed-model-name cv3_DIET\n",
    "!rasa train nlu --nlu faq_data/4cv_original_train.yml --config configs/config-DIET.yml --out faq_model_without_augment --fixed-model-name cv4_DIET\n",
    "!rasa train nlu --nlu faq_data/5cv_original_train.yml --config configs/config-DIET.yml --out faq_model_without_augment --fixed-model-name cv5_DIET\n",
    "\n",
    "# DIET model with pre-trained word embeddings\n",
    "!rasa train nlu --nlu faq_data/1cv_original_train.yml --config configs/config-DIET-PreTrained.yml --out faq_model_without_augment --fixed-model-name cv1_DIET_Pretrained\n",
    "!rasa train nlu --nlu faq_data/2cv_original_train.yml --config configs/config-DIET-PreTrained.yml --out faq_model_without_augment --fixed-model-name cv2_DIET_Pretrained\n",
    "!rasa train nlu --nlu faq_data/3cv_original_train.yml --config configs/config-DIET-PreTrained.yml --out faq_model_without_augment --fixed-model-name cv3_DIET_Pretrained\n",
    "!rasa train nlu --nlu faq_data/4cv_original_train.yml --config configs/config-DIET-PreTrained.yml --out faq_model_without_augment --fixed-model-name cv4_DIET_Pretrained\n",
    "!rasa train nlu --nlu faq_data/5cv_original_train.yml --config configs/config-DIET-PreTrained.yml --out faq_model_without_augment --fixed-model-name cv5_DIET_Pretrained\n",
    "\n",
    "#DIET model with BERT pre-trained word embeddings\n",
    "!rasa train nlu --nlu faq_data/1cv_original_train.yml --config configs/config-BERT.yml --out faq_model_without_augment --fixed-model-name cv1_BERT\n",
    "!rasa train nlu --nlu faq_data/2cv_original_train.yml --config configs/config-BERT.yml --out faq_model_without_augment --fixed-model-name cv2_BERT\n",
    "!rasa train nlu --nlu faq_data/3cv_original_train.yml --config configs/config-BERT.yml --out faq_model_without_augment --fixed-model-name cv3_BERT\n",
    "!rasa train nlu --nlu faq_data/4cv_original_train.yml --config configs/config-BERT.yml --out faq_model_without_augment --fixed-model-name cv4_BERT\n",
    "!rasa train nlu --nlu faq_data/5cv_original_train.yml --config configs/config-BERT.yml --out faq_model_without_augment --fixed-model-name cv5_BERT"
   ]
  },
  {
   "cell_type": "markdown",
   "metadata": {},
   "source": [
    "# Training Full Multi-Classifer Classifiers (FAQ and Chat-chat intents) "
   ]
  },
  {
   "cell_type": "code",
   "execution_count": null,
   "metadata": {},
   "outputs": [],
   "source": [
    "# DIET model with no pre-trained word embeddings\n",
    "!rasa train nlu --nlu faq_chitchat_data/multi_class_data/1cv_train_unbiased.yml --config configs/config-DIET-chitchat.yml --out faq_chitchat_data/multi_class_data/model_unbiased --fixed-model-name cv1_DIET\n",
    "!rasa train nlu --nlu faq_chitchat_data/multi_class_data/2cv_train_unbiased.yml --config configs/config-DIET-chitchat.yml --out faq_chitchat_data/multi_class_data/model_unbiased --fixed-model-name cv2_DIET\n",
    "!rasa train nlu --nlu faq_chitchat_data/multi_class_data/3cv_train_unbiased.yml --config configs/config-DIET-chitchat.yml --out faq_chitchat_data/multi_class_data/model_unbiased --fixed-model-name cv3_DIET\n",
    "!rasa train nlu --nlu faq_chitchat_data/multi_class_data/4cv_train_unbiased.yml --config configs/config-DIET-chitchat.yml --out faq_chitchat_data/multi_class_data/model_unbiased --fixed-model-name cv4_DIET\n",
    "!rasa train nlu --nlu faq_chitchat_data/multi_class_data/5cv_train_unbiased.yml --config configs/config-DIET-chitchat.yml --out faq_chitchat_data/multi_class_data/model_unbiased --fixed-model-name cv5_DIET\n",
    "\n",
    "# DIET model with pre-trained word embeddings\n",
    "!rasa train nlu --nlu faq_chitchat_data/multi_class_data/1cv_train_unbiased.yml --config configs/config-DIET-PreTrained-chitchat.yml --out faq_chitchat_data/multi_class_data/model_unbiased --fixed-model-name cv1_DIET_Pretrained\n",
    "!rasa train nlu --nlu faq_chitchat_data/multi_class_data/2cv_train_unbiased.yml --config configs/config-DIET-PreTrained-chitchat.yml --out faq_chitchat_data/multi_class_data/model_unbiased --fixed-model-name cv2_DIET_Pretrained\n",
    "!rasa train nlu --nlu faq_chitchat_data/multi_class_data/3cv_train_unbiased.yml --config configs/config-DIET-PreTrained-chitchat.yml --out faq_chitchat_data/multi_class_data/model_unbiased --fixed-model-name cv3_DIET_Pretrained\n",
    "!rasa train nlu --nlu faq_chitchat_data/multi_class_data/4cv_train_unbiased.yml --config configs/config-DIET-PreTrained-chitchat.yml --out faq_chitchat_data/multi_class_data/model_unbiased --fixed-model-name cv4_DIET_Pretrained\n",
    "!rasa train nlu --nlu faq_chitchat_data/multi_class_data/5cv_train_unbiased.yml --config configs/config-DIET-PreTrained-chitchat.yml --out faq_chitchat_data/multi_class_data/model_unbiased --fixed-model-name cv5_DIET_Pretrained\n",
    "\n",
    "#DIET model with BERT pre-trained word embeddings\n",
    "!rasa train nlu --nlu faq_chitchat_data/multi_class_data/1cv_train_unbiased.yml --config configs/config-BERT-chitchat.yml --out faq_chitchat_data/multi_class_data/model_unbiased --fixed-model-name cv1_BERT\n",
    "!rasa train nlu --nlu faq_chitchat_data/multi_class_data/2cv_train_unbiased.yml --config configs/config-BERT-chitchat.yml --out faq_chitchat_data/multi_class_data/model_unbiased --fixed-model-name cv2_BERT\n",
    "!rasa train nlu --nlu faq_chitchat_data/multi_class_data/3cv_train_unbiased.yml --config configs/config-BERT-chitchat.yml --out faq_chitchat_data/multi_class_data/model_unbiased --fixed-model-name cv3_BERT\n",
    "!rasa train nlu --nlu faq_chitchat_data/multi_class_data/4cv_train_unbiased.yml --config configs/config-BERT-chitchat.yml --out faq_chitchat_data/multi_class_data/model_unbiased --fixed-model-name cv4_BERT\n",
    "!rasa train nlu --nlu faq_chitchat_data/multi_class_data/5cv_train_unbiased.yml --config configs/config-BERT-chitchat.yml --out faq_chitchat_data/multi_class_data/model_unbiased --fixed-model-name cv5_BERT"
   ]
  }
 ],
 "metadata": {
  "kernelspec": {
   "display_name": "Python 3",
   "language": "python",
   "name": "python3"
  },
  "language_info": {
   "codemirror_mode": {
    "name": "ipython",
    "version": 3
   },
   "file_extension": ".py",
   "mimetype": "text/x-python",
   "name": "python",
   "nbconvert_exporter": "python",
   "pygments_lexer": "ipython3",
   "version": "3.8.5"
  },
  "varInspector": {
   "cols": {
    "lenName": 16,
    "lenType": 16,
    "lenVar": 40
   },
   "kernels_config": {
    "python": {
     "delete_cmd_postfix": "",
     "delete_cmd_prefix": "del ",
     "library": "var_list.py",
     "varRefreshCmd": "print(var_dic_list())"
    },
    "r": {
     "delete_cmd_postfix": ") ",
     "delete_cmd_prefix": "rm(",
     "library": "var_list.r",
     "varRefreshCmd": "cat(var_dic_list()) "
    }
   },
   "types_to_exclude": [
    "module",
    "function",
    "builtin_function_or_method",
    "instance",
    "_Feature"
   ],
   "window_display": false
  }
 },
 "nbformat": 4,
 "nbformat_minor": 4
}
