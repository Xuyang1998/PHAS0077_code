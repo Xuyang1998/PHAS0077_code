{
 "cells": [
  {
   "cell_type": "code",
   "execution_count": 12,
   "metadata": {},
   "outputs": [],
   "source": [
    "import emoji\n",
    "import re\n",
    "\n",
    "def remo_emoji_symbol(data_path):\n",
    "  \"\"\"\n",
    "    remove the emojis, '@' symbol and '#' symbol from original dataset \n",
    "    imput: data_path\n",
    "    return: a list including examples whose lenght larger than 3 words\n",
    "  \"\"\"\n",
    "  with open(data_path ,'r') as file:\n",
    "    filecontent = file.readlines()\n",
    "    for line in filecontent:\n",
    "      examples_list.append(line)\n",
    "\n",
    "  clean_data = []\n",
    "  for r in range(len(examples_list)):\n",
    "    example = examples_list[r]\n",
    "    text = emoji.demojize(example)\n",
    "    re_emoji = re.sub(':\\S+?:', '', text) \n",
    "    re_symbol = re_emoji.replace('@', '')\n",
    "    re_hashtag = re_symbol.replace('#', '')\n",
    "    words = re_hashtag.split(' ')\n",
    "    if len(words)>3:\n",
    "      clean_data.append(re_hashtag) \n",
    "\n",
    "  return clean_data\n",
    "\n",
    "\n",
    "# test# \n",
    "pathfile = 'faq_chitchat_data/binary_data/chitchat_data.txt'\n",
    "\n",
    "examples_list = []\n",
    "\n",
    "with open(pathfile ,'r') as file:\n",
    "    filecontent = file.readlines()\n",
    "    for line in filecontent:\n",
    "      examples_list.append(line)\n",
    "\n",
    "clean_data = remo_emoji_symbol(pathfile)\n",
    "\n",
    "print(examples_list[0:10])\n",
    "print(clean_data[0:10])"
   ]
  },
  {
   "cell_type": "code",
   "execution_count": 13,
   "metadata": {},
   "outputs": [
    {
     "name": "stderr",
     "output_type": "stream",
     "text": [
      "'pwd' 不是内部或外部命令，也不是可运行的程序\n",
      "或批处理文件。\n"
     ]
    }
   ],
   "source": []
  }
 ],
 "metadata": {
  "kernelspec": {
   "display_name": "Python 3",
   "language": "python",
   "name": "python3"
  },
  "language_info": {
   "codemirror_mode": {
    "name": "ipython",
    "version": 3
   },
   "file_extension": ".py",
   "mimetype": "text/x-python",
   "name": "python",
   "nbconvert_exporter": "python",
   "pygments_lexer": "ipython3",
   "version": "3.8.5"
  },
  "varInspector": {
   "cols": {
    "lenName": 16,
    "lenType": 16,
    "lenVar": 40
   },
   "kernels_config": {
    "python": {
     "delete_cmd_postfix": "",
     "delete_cmd_prefix": "del ",
     "library": "var_list.py",
     "varRefreshCmd": "print(var_dic_list())"
    },
    "r": {
     "delete_cmd_postfix": ") ",
     "delete_cmd_prefix": "rm(",
     "library": "var_list.r",
     "varRefreshCmd": "cat(var_dic_list()) "
    }
   },
   "oldHeight": 275.5,
   "position": {
    "height": "40px",
    "left": "750px",
    "right": "20px",
    "top": "48px",
    "width": "479px"
   },
   "types_to_exclude": [
    "module",
    "function",
    "builtin_function_or_method",
    "instance",
    "_Feature"
   ],
   "varInspector_section_display": "none",
   "window_display": false
  }
 },
 "nbformat": 4,
 "nbformat_minor": 4
}
