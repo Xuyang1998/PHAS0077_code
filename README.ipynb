{
 "cells": [
  {
   "cell_type": "markdown",
   "metadata": {},
   "source": [
    " **1. data_processing.py gives functions about how to handle the traning data and make some plot about the statistic of data**\n",
    " \n",
    " \n",
    " **2. model_training.ipynb is the notebook about training our model by RASA command line. Which actually is a copy from my notebook in google colab since the I can not install package rasa in the local environment.**\n",
    " \n",
    " \n",
    " **3. model_testing.py gives the function about how to load the our training model to test the data and give their performance metrics like F1 score, precision, and recall.**\n",
    " \n",
    " \n",
    " **4. test.ipynb gives the test resutls of our functions, which you can run it directly and check the results. Actually, we run all code in google colab rather than local environment, if necessary, I would provide my google drive account.**\n",
    " "
   ]
  }
 ],
 "metadata": {
  "kernelspec": {
   "display_name": "Python 3",
   "language": "python",
   "name": "python3"
  },
  "language_info": {
   "codemirror_mode": {
    "name": "ipython",
    "version": 3
   },
   "file_extension": ".py",
   "mimetype": "text/x-python",
   "name": "python",
   "nbconvert_exporter": "python",
   "pygments_lexer": "ipython3",
   "version": "3.8.5"
  },
  "varInspector": {
   "cols": {
    "lenName": 16,
    "lenType": 16,
    "lenVar": 40
   },
   "kernels_config": {
    "python": {
     "delete_cmd_postfix": "",
     "delete_cmd_prefix": "del ",
     "library": "var_list.py",
     "varRefreshCmd": "print(var_dic_list())"
    },
    "r": {
     "delete_cmd_postfix": ") ",
     "delete_cmd_prefix": "rm(",
     "library": "var_list.r",
     "varRefreshCmd": "cat(var_dic_list()) "
    }
   },
   "types_to_exclude": [
    "module",
    "function",
    "builtin_function_or_method",
    "instance",
    "_Feature"
   ],
   "window_display": false
  }
 },
 "nbformat": 4,
 "nbformat_minor": 4
}
